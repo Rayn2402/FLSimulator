{
 "cells": [
  {
   "cell_type": "markdown",
   "metadata": {
    "collapsed": true
   },
   "source": [
    "# Federated Learning - Régression polynomiale"
   ]
  },
  {
   "cell_type": "code",
   "execution_count": 1,
   "metadata": {},
   "outputs": [],
   "source": [
    "# Importation des modules de génération de données\n",
    "from FLSimulator import OneDimensionalRDG, OneDimensionalLRDG\n",
    "\n",
    "# Importation des modèles de machine learning disponibles\n",
    "from FLSimulator import GDRegressor, LogisticRegressor\n",
    "\n",
    "# Importation des modules pour créer un réseau fédéré\n",
    "from FLSimulator import CentralServer, Node, FederatedNetwork\n",
    "\n",
    "# Importation d'un module a utilisé comme fonction de base phi\n",
    "from FLSimulator import polynomial_features\n",
    "\n",
    "# Importation d'une fonction pour regrouper les données de façon centralisé\n",
    "from FLSimulator import regroup_data_base\n",
    "\n",
    "from random import randint, seed\n",
    "from matplotlib import pyplot as plt\n",
    "import numpy as np\n",
    "\n",
    "# Activation de LaTeX pour les illustrations\n",
    "plt.rc('text', usetex=True)\n",
    "\n",
    "# Mise en place des seeds\n",
    "seed(9)\n",
    "np.random.seed(2020)"
   ]
  },
  {
   "cell_type": "markdown",
   "metadata": {},
   "source": [
    "### On crée un réseau fédéré constitué de 3 bases de données fédérées disposant de 150 à 250 observations obtenues à partir de la fonction $\\sin(2\\pi x)$ où les x sont tirés de différentes lois beta de paramètres $(\\alpha_i, \\beta_i)$. L'indice $i$ désigne la i-ème base de données fédérées."
   ]
  },
  {
   "cell_type": "code",
   "execution_count": 4,
   "metadata": {},
   "outputs": [
    {
     "data": {
      "image/png": "[encoded data removed]",
      "text/plain": [
       "<Figure size 576x360 with 8 Axes>"
      ]
     },
     "metadata": {
      "needs_background": "light"
     },
     "output_type": "display_data"
    }
   ],
   "source": [
    "# 1. Création des bases de données fédérées\n",
    "\n",
    "# 1.1 Création des axes montrant les obsevations de chaque base de données\n",
    "fig, axes = plt.subplots(nrows=2, ncols=4, figsize=(8, 5), sharey='row', sharex='col')\n",
    "\n",
    "# 1.1 Création des DataGenerator utilisés pour générer les bases de données de chaque client (Node).\n",
    "#     Les données présenteront un problème de régression simple\n",
    "alpha_beta = [(2,10), (5,5), (10,2)]\n",
    "\n",
    "# 1.2 Création des Node\n",
    "nodes = []\n",
    "axes[0][0].set_ylabel('Labels')\n",
    "axes[1][0].set_ylabel('Feature Distribution')\n",
    "\n",
    "for i in range(3):\n",
    "    \n",
    "    DG = OneDimensionalRDG(noise=0.15, label_function='sin', a=alpha_beta[i][0], b=alpha_beta[i][1])\n",
    "    \n",
    "    X, t = DG.generate_data(randint(150, 250))\n",
    "    DG.distribution_and_labels(X,t, title='Node '+ str(i), axes=[axes[0][i], axes[1][i]])\n",
    "    nodes.append(Node(X, t))\n",
    "    \n",
    "# Illustration de la base de données si elle était centralisée\n",
    "X_total, t_total = regroup_data_base(nodes)\n",
    "OneDimensionalRDG.distribution_and_labels(X_total, t_total, title='Centralized', axes=[axes[0][3], axes[1][3]])\n",
    "fig.tight_layout()\n",
    "\n",
    "plt.show()\n"
   ]
  },
  {
   "cell_type": "code",
   "execution_count": null,
   "metadata": {},
   "outputs": [],
   "source": []
  },
  {
   "cell_type": "code",
   "execution_count": null,
   "metadata": {},
   "outputs": [],
   "source": []
  }
 ],
 "metadata": {
  "kernelspec": {
   "display_name": "Python 3",
   "language": "python",
   "name": "python3"
  },
  "language_info": {
   "codemirror_mode": {
    "name": "ipython",
    "version": 3
   },
   "file_extension": ".py",
   "mimetype": "text/x-python",
   "name": "python",
   "nbconvert_exporter": "python",
   "pygments_lexer": "ipython3",
   "version": "3.7.2"
  }
 },
 "nbformat": 4,
 "nbformat_minor": 1
}
